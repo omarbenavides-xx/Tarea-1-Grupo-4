{
  "nbformat": 4,
  "nbformat_minor": 0,
  "metadata": {
    "colab": {
      "provenance": [],
      "authorship_tag": "ABX9TyN/SC98QQNHgHuSxv8AVhmR",
      "include_colab_link": true
    },
    "kernelspec": {
      "name": "python3",
      "display_name": "Python 3"
    },
    "language_info": {
      "name": "python"
    }
  },
  "cells": [
    {
      "cell_type": "markdown",
      "metadata": {
        "id": "view-in-github",
        "colab_type": "text"
      },
      "source": [
        "<a href=\"https://colab.research.google.com/github/omarbenavides-xx/Tarea-1-Grupo-4/blob/main/Tarea_2_Programacion_Calculando_con_formulas.ipynb\" target=\"_parent\"><img src=\"https://colab.research.google.com/assets/colab-badge.svg\" alt=\"Open In Colab\"/></a>"
      ]
    },
    {
      "cell_type": "markdown",
      "source": [
        "# **Tarea 2 Programacion: Calculando con formulas**\n",
        "\n",
        "**Grupo 4**\n",
        "\n",
        "**Integrantes**\n",
        "\n",
        "-Kony María Contreras Aguas\n",
        "\n",
        "-Omar Benavides Jiménez\n",
        "\n",
        "-Erasmo Lima Madariaga\n"
      ],
      "metadata": {
        "id": "qFD3WST4Fr6v"
      }
    },
    {
      "cell_type": "markdown",
      "source": [
        "## Ecuación de la caída libre con resistencia del aire:\n",
        "\n",
        "La ecuación que describe la velocidad de un objeto en caída libre teniendo en cuenta la resistencia del aire es:\n",
        "\n",
        "$$\n",
        "v(t) = \\frac{mg}{k} \\left(1 - e^{-\\frac{k}{m}t} \\right)\n",
        "$$\n",
        "\n",
        "Donde:\n",
        "- \\( v(t) \\) es la velocidad en función del tiempo.\n",
        "- \\( m \\) es la masa del objeto.\n",
        "- \\( g \\) es la aceleración debido a la gravedad.\n",
        "- \\( k \\) es el coeficiente de resistencia del aire.\n",
        "- \\( t \\) es el tiempo en segundos.\n",
        "\n",
        "Cuando un objeto cae bajo la influencia de la gravedad, la fuerza de resistencia del aire actúa en la dirección opuesta al movimiento del objeto. Esta resistencia depende tanto de la velocidad del objeto como del medio por el cual se desplaza. El término $$(\\frac{k}{m})$$ representa la relación entre el coeficiente de resistencia del aire y la masa del objeto, lo cual define cuánta resistencia experimenta el objeto a medida que acelera.\n",
        "\n",
        "En ausencia de resistencia del aire, el objeto aceleraría indefinidamente debido a la gravedad, pero en la realidad, la resistencia del aire limita esta aceleración, y la velocidad del objeto tiende a estabilizarse en lo que se conoce como \"velocidad terminal\".\n",
        "\n",
        "\n"
      ],
      "metadata": {
        "id": "iGeKjaHIFovp"
      }
    },
    {
      "cell_type": "code",
      "source": [
        "import math\n",
        "\n",
        "def velocidad_caida_libre(m, g, k, t):\n",
        "    \"\"\"\n",
        "    Calcula la velocidad de un objeto en caída libre considerando la resistencia del aire.\n",
        "\n",
        "    Args:\n",
        "        m (float): Masa del objeto en kg.\n",
        "        g (float): Aceleración de la gravedad en m/s^2.\n",
        "        k (float): Coeficiente de resistencia del aire.\n",
        "        t (float): Tiempo transcurrido en segundos.\n",
        "\n",
        "    Returns:\n",
        "        float: Velocidad del objeto en m/s.\n",
        "    \"\"\"\n",
        "\n",
        "    v = (m * g / k) * (1 - math.exp(-k * t / m))\n",
        "    return v\n",
        "\n",
        "# Ejemplo de uso:\n",
        "masa = 0.1  # kg\n",
        "gravedad = 9.81  # m/s^2\n",
        "resistencia = 0.02  # kg/s\n",
        "tiempo = 2  # s\n",
        "\n",
        "velocidad = velocidad_caida_libre(masa, gravedad, resistencia, tiempo)\n",
        "print(\"La velocidad del objeto después de\", tiempo, \"segundos es:\", velocidad, \"m/s\")\n"
      ],
      "metadata": {
        "colab": {
          "base_uri": "https://localhost:8080/"
        },
        "id": "zvUK-uzHHCJG",
        "outputId": "64d6cf78-30d7-452a-953f-2c8d0c4a57f1"
      },
      "execution_count": 1,
      "outputs": [
        {
          "output_type": "stream",
          "name": "stdout",
          "text": [
            "La velocidad del objeto después de 2 segundos es: 16.17080174195189 m/s\n"
          ]
        }
      ]
    },
    {
      "cell_type": "markdown",
      "source": [
        "## Ecuación de la cinemática para el movimiento parabólico:\n",
        "\n",
        "La ecuación para describir la altura 𝑦 en función de la distancia horizontal 𝑥 durante un movimiento parabólico es:\n",
        "\n",
        "$$\n",
        "y(x) = x \\cdot \\tan(\\theta) - \\frac{g \\cdot x^2}{2 \\cdot (v_0 \\cdot \\cos(\\theta))^2}\n",
        "$$\n",
        "\n",
        "Donde:\n",
        "- \\( y(x) \\) es la altura en función de la distancia horizontal.\n",
        "- \\( x \\) es la distancia horizontal.\n",
        "- \\( \\theta \\) es el ángulo de lanzamiento.\n",
        "- \\( g \\) es la aceleración debido a la gravedad.\n",
        "- \\( v_0 \\) es la velocidad inicial.\n",
        "\n",
        "El movimiento parabólico es un ejemplo clásico de la combinación de dos movimientos: el movimiento horizontal con velocidad constante y el movimiento vertical bajo la influencia de la gravedad. Esta ecuación describe la trayectoria de un proyectil lanzado con una velocidad inicial\n",
        "𝑣0 y un ángulo de lanzamiento 𝜃.\n",
        "\n",
        "Esta ecuación es fundamental en la cinemática para entender cómo los objetos lanzados con una velocidad y un ángulo iniciales siguen trayectorias curvas, formando parábolas bajo la influencia de la gravedad.\n"
      ],
      "metadata": {
        "id": "ow7PO9UoFpV6"
      }
    },
    {
      "cell_type": "code",
      "source": [
        "import math\n",
        "\n",
        "def movimiento_parabolico(x, theta, v0, g=9.81):\n",
        "  \"\"\"\n",
        "  Calcula la altura de un objeto en un movimiento parabólico.\n",
        "\n",
        "  Args:\n",
        "    x: Distancia horizontal.\n",
        "    theta: Ángulo de lanzamiento en radianes.\n",
        "    v0: Velocidad inicial.\n",
        "    g: Aceleración debido a la gravedad (por defecto 9.81 m/s²).\n",
        "\n",
        "  Returns:\n",
        "    La altura del objeto en la posición x.\n",
        "  \"\"\"\n",
        "\n",
        "  y = x * math.tan(theta) - (g * x**2) / (2 * v0**2 * math.cos(theta)**2)\n",
        "  return y\n",
        "\n",
        "# Ejemplo de uso:\n",
        "altura = movimiento_parabolico(10, math.pi/4, 20)  # Distancia 10m, ángulo 45 grados, velocidad inicial 20 m/s\n",
        "print(\"La altura del objeto a 10 metros es:\", altura, \"metros\")\n"
      ],
      "metadata": {
        "colab": {
          "base_uri": "https://localhost:8080/"
        },
        "id": "M3XIvCZwH-j9",
        "outputId": "0142bc67-9fb3-4386-8fe5-6a7bb74689ee"
      },
      "execution_count": 7,
      "outputs": [
        {
          "output_type": "stream",
          "name": "stdout",
          "text": [
            "La altura del objeto a 10 metros es: 7.547499999999999 metros\n"
          ]
        }
      ]
    },
    {
      "cell_type": "markdown",
      "source": [
        "## Ecuación de la ley de Ohm para la resistencia eléctrica:\n",
        "\n",
        "$$\n",
        "V = I \\cdot R\n",
        "$$\n",
        "\n",
        "\n",
        "\n",
        "La **ley de Ohm** describe la relación entre el voltaje, la corriente y la resistencia en un circuito eléctrico. Es fundamental para entender cómo los componentes eléctricos interactúan entre sí en un circuito.\n",
        "\n",
        "- \\( V \\) es el voltaje o diferencia de potencial, medido en **voltios** (V).\n",
        "- \\( I \\) es la corriente eléctrica que fluye a través del circuito, medida en **amperios** (A).\n",
        "- \\( R \\) es la resistencia del circuito, medida en **ohmios** (Ω).\n",
        "\n",
        "## Conceptos claves:\n",
        "\n",
        "1. **Voltaje (V)**: El voltaje es la fuerza que impulsa a los electrones a través de un conductor. Es la diferencia de potencial eléctrico entre dos puntos.\n",
        "2. **Corriente (I)**: La corriente es el flujo de carga eléctrica en el circuito. Cuanto mayor sea el voltaje, mayor será la cantidad de corriente que puede fluir, siempre que la resistencia se mantenga constante.\n",
        "3. **Resistencia (R)**: La resistencia es la oposición al flujo de corriente en un circuito. Todos los materiales tienen cierta resistencia que depende de su naturaleza (por ejemplo, los materiales metálicos tienen baja resistencia en comparación con materiales no conductores).\n",
        "\n",
        "### ley de Ohm:\n",
        "\n",
        "La ley de Ohm establece que la corriente \\( I \\) que fluye a través de un conductor es directamente proporcional al voltaje \\( V \\), e inversamente proporcional a la resistencia \\( R \\). En términos sencillos, si aumentas el voltaje manteniendo la resistencia constante, la corriente aumenta. Si aumentas la resistencia y mantienes constante el voltaje, la corriente disminuye.\n",
        "\n",
        "\n",
        "La ley de Ohm es crucial para analizar y diseñar circuitos eléctricos. Permite determinar cómo ajustar los valores de voltaje, corriente o resistencia para obtener el rendimiento deseado en un sistema eléctrico.\n"
      ],
      "metadata": {
        "id": "wmOkHSraFqmp"
      }
    },
    {
      "cell_type": "code",
      "source": [
        "def ley_de_ohm(corriente, resistencia):\n",
        "  \"\"\"\n",
        "  Calcula el voltaje en un circuito dado la corriente y la resistencia.\n",
        "\n",
        "  Args:\n",
        "    corriente: La corriente eléctrica en amperios (A).\n",
        "    resistencia: La resistencia eléctrica en ohmios (Ω).\n",
        "\n",
        "  Returns:\n",
        "    El voltaje en voltios (V).\n",
        "  \"\"\"\n",
        "\n",
        "  voltaje = corriente * resistencia\n",
        "  return voltaje\n",
        "\n",
        "# Ejemplo de uso:\n",
        "corriente = 2  # amperios\n",
        "resistencia = 10  # ohmios\n",
        "voltaje = ley_de_ohm(corriente, resistencia)\n",
        "\n",
        "print(\"El voltaje es:\", voltaje, \"voltios\")"
      ],
      "metadata": {
        "colab": {
          "base_uri": "https://localhost:8080/"
        },
        "id": "-rTLr6qoMBeq",
        "outputId": "da7f0c89-61f4-41f6-854d-0ec0abb66818"
      },
      "execution_count": 8,
      "outputs": [
        {
          "output_type": "stream",
          "name": "stdout",
          "text": [
            "El voltaje es: 20 voltios\n"
          ]
        }
      ]
    }
  ]
}